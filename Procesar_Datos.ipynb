{
 "cells": [
  {
   "cell_type": "code",
   "execution_count": 1,
   "metadata": {},
   "outputs": [],
   "source": [
    "#Funcion para lectura de datos .gpx\n",
    "import gpxpy\n",
    "import pandas as pd\n",
    "\n",
    "def read_gpx(file: str) -> pd.DataFrame:\n",
    "    df = None\n",
    "    points = []\n",
    "    with open(file) as f:\n",
    "        gpx = gpxpy.parse(f)\n",
    "\n",
    "    for segment in gpx.tracks[0].segments:\n",
    "        for p in segment.points:\n",
    "            points.append({\n",
    "                'time':p.time,\n",
    "                'latitude':p.latitude,\n",
    "                'longitude':p.longitude,\n",
    "                'elevation':p.elevation\n",
    "            })\n",
    "    df = pd.DataFrame.from_records(points)\n",
    "    return df"
   ]
  },
  {
   "cell_type": "code",
   "execution_count": 2,
   "metadata": {},
   "outputs": [],
   "source": [
    "#Datos\n",
    "df1 = read_gpx('recovery.01-Mar-2022-1533.gpx')\n",
    "df2 = read_gpx('recovery.05-Mar-2022.1025.gpx')\n",
    "df3 = read_gpx('recovery.25-May-2022-0907.gpx')"
   ]
  },
  {
   "cell_type": "code",
   "execution_count": 3,
   "metadata": {},
   "outputs": [
    {
     "data": {
      "text/html": [
       "<div>\n",
       "<style scoped>\n",
       "    .dataframe tbody tr th:only-of-type {\n",
       "        vertical-align: middle;\n",
       "    }\n",
       "\n",
       "    .dataframe tbody tr th {\n",
       "        vertical-align: top;\n",
       "    }\n",
       "\n",
       "    .dataframe thead th {\n",
       "        text-align: right;\n",
       "    }\n",
       "</style>\n",
       "<table border=\"1\" class=\"dataframe\">\n",
       "  <thead>\n",
       "    <tr style=\"text-align: right;\">\n",
       "      <th></th>\n",
       "      <th>time</th>\n",
       "      <th>latitude</th>\n",
       "      <th>longitude</th>\n",
       "      <th>elevation</th>\n",
       "    </tr>\n",
       "  </thead>\n",
       "  <tbody>\n",
       "    <tr>\n",
       "      <th>0</th>\n",
       "      <td>2022-03-01 20:33:48+00:00</td>\n",
       "      <td>6.297476</td>\n",
       "      <td>-75.578192</td>\n",
       "      <td>1668.879307</td>\n",
       "    </tr>\n",
       "    <tr>\n",
       "      <th>1</th>\n",
       "      <td>2022-03-01 20:33:49+00:00</td>\n",
       "      <td>6.297476</td>\n",
       "      <td>-75.578146</td>\n",
       "      <td>1668.386143</td>\n",
       "    </tr>\n",
       "    <tr>\n",
       "      <th>2</th>\n",
       "      <td>2022-03-01 20:33:57+00:00</td>\n",
       "      <td>6.297460</td>\n",
       "      <td>-75.578169</td>\n",
       "      <td>1667.904453</td>\n",
       "    </tr>\n",
       "  </tbody>\n",
       "</table>\n",
       "</div>"
      ],
      "text/plain": [
       "                       time  latitude  longitude    elevation\n",
       "0 2022-03-01 20:33:48+00:00  6.297476 -75.578192  1668.879307\n",
       "1 2022-03-01 20:33:49+00:00  6.297476 -75.578146  1668.386143\n",
       "2 2022-03-01 20:33:57+00:00  6.297460 -75.578169  1667.904453"
      ]
     },
     "execution_count": 3,
     "metadata": {},
     "output_type": "execute_result"
    }
   ],
   "source": [
    "df1"
   ]
  }
 ],
 "metadata": {
  "kernelspec": {
   "display_name": "Python 3.9.13 64-bit ('Anaconda3')",
   "language": "python",
   "name": "python3"
  },
  "language_info": {
   "codemirror_mode": {
    "name": "ipython",
    "version": 3
   },
   "file_extension": ".py",
   "mimetype": "text/x-python",
   "name": "python",
   "nbconvert_exporter": "python",
   "pygments_lexer": "ipython3",
   "version": "3.9.13"
  },
  "orig_nbformat": 4,
  "vscode": {
   "interpreter": {
    "hash": "ad2bdc8ecc057115af97d19610ffacc2b4e99fae6737bb82f5d7fb13d2f2c186"
   }
  }
 },
 "nbformat": 4,
 "nbformat_minor": 2
}
